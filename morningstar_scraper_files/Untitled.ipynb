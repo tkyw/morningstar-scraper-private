{
 "cells": [
  {
   "cell_type": "code",
   "execution_count": 22,
   "id": "c131bbbf-56db-48ef-b5e5-bb9ad5fe37be",
   "metadata": {},
   "outputs": [],
   "source": [
    "import pandas as pd \n",
    "from io import StringIO\n",
    "import re"
   ]
  },
  {
   "cell_type": "code",
   "execution_count": 23,
   "id": "f115af9d-cc70-4dc9-af30-21a7d88054ac",
   "metadata": {},
   "outputs": [
    {
     "data": {
      "text/plain": [
       "'securityName,AHAM INR Flexi\\nAmanat Lebuhraya Rakyat Berhad 5.09%,2.61122\\nDanum Capital Berhad 4.68%,2.54673\\nEco World Capital Berhad 4.9%,2.53743\\nHong Leong Financial Group Berhad 4.3%,2.45100\\n'"
      ]
     },
     "execution_count": 23,
     "metadata": {},
     "output_type": "execute_result"
    }
   ],
   "source": [
    "data = \"\"\"\\\n",
    "securityName,AHAM INR Flexi\n",
    "Amanat Lebuhraya Rakyat Berhad 5.09%,2.61122\n",
    "Danum Capital Berhad 4.68%,2.54673\n",
    "Eco World Capital Berhad 4.9%,2.53743\n",
    "Hong Leong Financial Group Berhad 4.3%,2.45100\n",
    "\"\"\"\n",
    "data"
   ]
  },
  {
   "cell_type": "code",
   "execution_count": 24,
   "id": "e770d592-9684-424f-9ffe-749659bed9ab",
   "metadata": {},
   "outputs": [
    {
     "data": {
      "text/html": [
       "<div>\n",
       "<style scoped>\n",
       "    .dataframe tbody tr th:only-of-type {\n",
       "        vertical-align: middle;\n",
       "    }\n",
       "\n",
       "    .dataframe tbody tr th {\n",
       "        vertical-align: top;\n",
       "    }\n",
       "\n",
       "    .dataframe thead th {\n",
       "        text-align: right;\n",
       "    }\n",
       "</style>\n",
       "<table border=\"1\" class=\"dataframe\">\n",
       "  <thead>\n",
       "    <tr style=\"text-align: right;\">\n",
       "      <th></th>\n",
       "      <th>AHAM INR Flexi</th>\n",
       "    </tr>\n",
       "    <tr>\n",
       "      <th>securityName</th>\n",
       "      <th></th>\n",
       "    </tr>\n",
       "  </thead>\n",
       "  <tbody>\n",
       "    <tr>\n",
       "      <th>Amanat Lebuhraya Rakyat Berhad</th>\n",
       "      <td>2.61122</td>\n",
       "    </tr>\n",
       "    <tr>\n",
       "      <th>Danum Capital Berhad</th>\n",
       "      <td>2.54673</td>\n",
       "    </tr>\n",
       "    <tr>\n",
       "      <th>Eco World Capital Berhad</th>\n",
       "      <td>2.53743</td>\n",
       "    </tr>\n",
       "    <tr>\n",
       "      <th>Hong Leong Financial Group Berhad</th>\n",
       "      <td>2.45100</td>\n",
       "    </tr>\n",
       "  </tbody>\n",
       "</table>\n",
       "</div>"
      ],
      "text/plain": [
       "                                    AHAM INR Flexi\n",
       "securityName                                      \n",
       "Amanat Lebuhraya Rakyat Berhad             2.61122\n",
       "Danum Capital Berhad                       2.54673\n",
       "Eco World Capital Berhad                   2.53743\n",
       "Hong Leong Financial Group Berhad          2.45100"
      ]
     },
     "execution_count": 24,
     "metadata": {},
     "output_type": "execute_result"
    }
   ],
   "source": [
    "df = pd.read_table(StringIO(data), sep=',').set_index(\"securityName\")\n",
    "df.rename(lambda x: re.sub(r\"\\d+\\.\\d+%$\", \"\", x), axis=0, inplace=True)\n",
    "df"
   ]
  }
 ],
 "metadata": {
  "kernelspec": {
   "display_name": "Python 3 (ipykernel)",
   "language": "python",
   "name": "python3"
  },
  "language_info": {
   "codemirror_mode": {
    "name": "ipython",
    "version": 3
   },
   "file_extension": ".py",
   "mimetype": "text/x-python",
   "name": "python",
   "nbconvert_exporter": "python",
   "pygments_lexer": "ipython3",
   "version": "3.11.4"
  }
 },
 "nbformat": 4,
 "nbformat_minor": 5
}
