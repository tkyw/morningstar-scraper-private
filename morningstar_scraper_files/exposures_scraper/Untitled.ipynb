{
 "cells": [
  {
   "cell_type": "code",
   "execution_count": 12,
   "id": "eff5bab0-1cc4-4d79-9b0f-037eb7061886",
   "metadata": {},
   "outputs": [],
   "source": [
    "import pandas as pd \n",
    "import numpy as np \n",
    "import os \n",
    "import os.path"
   ]
  },
  {
   "cell_type": "code",
   "execution_count": 26,
   "id": "a327e6b5-661a-442e-9513-4aacf07ec6fc",
   "metadata": {},
   "outputs": [],
   "source": [
    "sheet_names = [exp for exp in os.listdir() if exp.endswith(\".xlsx\")]"
   ]
  },
  {
   "cell_type": "code",
   "execution_count": 28,
   "id": "3f2a7cb3-5b0b-4b32-a25a-bd00f30fe5ed",
   "metadata": {},
   "outputs": [],
   "source": [
    "filename = \"combined_exposures.xlsx\"\n",
    "for sheet_name in sheet_names:\n",
    "    exp = pd.read_excel(sheet_name, index_col = 0)\n",
    "    sheet_name = sheet_name.split(\".\")[0]\n",
    "    if os.path.exists(filename):\n",
    "        with pd.ExcelWriter(filename, engine=\"openpyxl\", mode=\"a\") as wf:\n",
    "            exp.to_excel(wf,sheet_name)\n",
    "    else:\n",
    "        with pd.ExcelWriter(filename, engine=\"openpyxl\", mode=\"w\") as wf:\n",
    "            exp.to_excel(wf, sheet_name)"
   ]
  },
  {
   "cell_type": "code",
   "execution_count": null,
   "id": "949043d4-d1c7-4d54-a147-fe91b0b7361a",
   "metadata": {},
   "outputs": [],
   "source": []
  }
 ],
 "metadata": {
  "kernelspec": {
   "display_name": "Python 3 (ipykernel)",
   "language": "python",
   "name": "python3"
  },
  "language_info": {
   "codemirror_mode": {
    "name": "ipython",
    "version": 3
   },
   "file_extension": ".py",
   "mimetype": "text/x-python",
   "name": "python",
   "nbconvert_exporter": "python",
   "pygments_lexer": "ipython3",
   "version": "3.11.4"
  }
 },
 "nbformat": 4,
 "nbformat_minor": 5
}
